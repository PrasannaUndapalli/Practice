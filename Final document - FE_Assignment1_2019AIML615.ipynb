{
 "cells": [
  {
   "cell_type": "markdown",
   "metadata": {},
   "source": [
    "# Problem Statement\n",
    "The data files Bollywood.csv and Bollywood - 2 .csv contains the box office collection and social media promotion information about the movies released in 2013 – 2015 period. \n",
    "Following is the information about the columns (names can vary):\n",
    "        \n",
    "        Serial Id of movie\n",
    "        Release date of movie\n",
    "        Release time of movie like Long Weekend (3), Festive Season (1), Holiday Season (2), and Normal (4)\n",
    "        Genre of movie like Romance, Thriller, Action, comedy etc.\n",
    "        Budget of movie in crores\n",
    "        Box office collection of movie in crore\n",
    "        YouTube views of movies trailers\n",
    "        YouTube likes for the movie trailers\n",
    "        YouTube dislikes for the movie trailers\n",
    "\n",
    "Q1. Identify and rectify the eight prominent data quality issues present in the given datasets.\n",
    "\n",
    "\n",
    "Q2. How many records are present in the dataset? Print the metadata information of dataset.\n",
    "\n",
    "Q3. How many movies in each genre got released in different release times? \n",
    "\n",
    "Q4. Which month of the year, maximum movie releases are seen? \n",
    "\n",
    "Q5. Which month of the year typically sees most releases of high budgeted movies, that is, movies with budget of 25 crore or more? \n",
    "\n",
    "Q6. Which are the top 10 movies with maximum return of investment (ROI)? Calculate ROI as (Box office collection – Budget) / Budget. "
   ]
  },
  {
   "cell_type": "code",
   "execution_count": 564,
   "metadata": {},
   "outputs": [],
   "source": [
    "#import libraries\n",
    "import pandas as pd\n",
    "import numpy as np\n",
    "import seaborn as sns\n",
    "import matplotlib.pyplot as plt"
   ]
  },
  {
   "cell_type": "markdown",
   "metadata": {},
   "source": [
    "### Q1. Identify and rectify the eight prominent data quality issues present in the given datasets."
   ]
  },
  {
   "cell_type": "markdown",
   "metadata": {},
   "source": [
    "#### Data Integration"
   ]
  },
  {
   "cell_type": "code",
   "execution_count": 565,
   "metadata": {},
   "outputs": [],
   "source": [
    "# Define a column column names for datasets\n",
    "column_names = [\"Movie_ID\",\"Release_Date\",\"Movie_Name\",\"Release_Time\",\"Genre\",\"Budget(Cr)\",\"Box_Office_Collection\",\"Youtube_Views\",\"Youtube_Likes\",\"Youtube_Dislikes\",\"Youtube_Like_Dislikes\"]\n",
    "# Load Datasets \n",
    "df1 = pd.read_csv('bollywood.csv',skiprows=1,names=column_names)\n",
    "df2 = pd.read_csv('bollywood - 2.csv',skiprows=1,names=column_names)\n",
    "# The above command will automatically creates the missing column in dataset2 and populate all values as null."
   ]
  },
  {
   "cell_type": "code",
   "execution_count": 566,
   "metadata": {},
   "outputs": [
    {
     "data": {
      "text/html": [
       "<div>\n",
       "<style scoped>\n",
       "    .dataframe tbody tr th:only-of-type {\n",
       "        vertical-align: middle;\n",
       "    }\n",
       "\n",
       "    .dataframe tbody tr th {\n",
       "        vertical-align: top;\n",
       "    }\n",
       "\n",
       "    .dataframe thead th {\n",
       "        text-align: right;\n",
       "    }\n",
       "</style>\n",
       "<table border=\"1\" class=\"dataframe\">\n",
       "  <thead>\n",
       "    <tr style=\"text-align: right;\">\n",
       "      <th></th>\n",
       "      <th>Movie_ID</th>\n",
       "      <th>Release_Date</th>\n",
       "      <th>Movie_Name</th>\n",
       "      <th>Release_Time</th>\n",
       "      <th>Genre</th>\n",
       "      <th>Budget(Cr)</th>\n",
       "      <th>Box_Office_Collection</th>\n",
       "      <th>Youtube_Views</th>\n",
       "      <th>Youtube_Likes</th>\n",
       "      <th>Youtube_Dislikes</th>\n",
       "      <th>Youtube_Like_Dislikes</th>\n",
       "    </tr>\n",
       "  </thead>\n",
       "  <tbody>\n",
       "    <tr>\n",
       "      <th>0</th>\n",
       "      <td>1</td>\n",
       "      <td>Apr-18-2014</td>\n",
       "      <td>2 States</td>\n",
       "      <td>3</td>\n",
       "      <td>RomanceGenre</td>\n",
       "      <td>36Cr</td>\n",
       "      <td>104</td>\n",
       "      <td>8576361</td>\n",
       "      <td>26622.0</td>\n",
       "      <td>2527.0</td>\n",
       "      <td>29149</td>\n",
       "    </tr>\n",
       "    <tr>\n",
       "      <th>1</th>\n",
       "      <td>2</td>\n",
       "      <td>Jan-4-2013</td>\n",
       "      <td>Table No. 21</td>\n",
       "      <td>4</td>\n",
       "      <td>Thriller</td>\n",
       "      <td>Cr10</td>\n",
       "      <td>12</td>\n",
       "      <td>1087320</td>\n",
       "      <td>1129.0</td>\n",
       "      <td>137.0</td>\n",
       "      <td>1266</td>\n",
       "    </tr>\n",
       "    <tr>\n",
       "      <th>2</th>\n",
       "      <td>3</td>\n",
       "      <td>Jul-18-2014</td>\n",
       "      <td>Amit Sahni Ki List</td>\n",
       "      <td>4</td>\n",
       "      <td>ComedyGenre</td>\n",
       "      <td>10Cr</td>\n",
       "      <td>4</td>\n",
       "      <td>572336</td>\n",
       "      <td>586.0</td>\n",
       "      <td>54.0</td>\n",
       "      <td>640</td>\n",
       "    </tr>\n",
       "    <tr>\n",
       "      <th>3</th>\n",
       "      <td>4</td>\n",
       "      <td>Jan-4-2013</td>\n",
       "      <td>Rajdhani Express</td>\n",
       "      <td>4</td>\n",
       "      <td>DramaGenre</td>\n",
       "      <td>7Cr</td>\n",
       "      <td>383</td>\n",
       "      <td>42626</td>\n",
       "      <td>86.0</td>\n",
       "      <td>19.0</td>\n",
       "      <td>105</td>\n",
       "    </tr>\n",
       "    <tr>\n",
       "      <th>4</th>\n",
       "      <td>5</td>\n",
       "      <td>Jul-4-2014</td>\n",
       "      <td>Bobby Jasoos</td>\n",
       "      <td>44</td>\n",
       "      <td>ComedyGenre</td>\n",
       "      <td>18Cr</td>\n",
       "      <td>10.8</td>\n",
       "      <td>3113427</td>\n",
       "      <td>4512.0</td>\n",
       "      <td>1224.0</td>\n",
       "      <td>5736</td>\n",
       "    </tr>\n",
       "  </tbody>\n",
       "</table>\n",
       "</div>"
      ],
      "text/plain": [
       "   Movie_ID Release_Date          Movie_Name  Release_Time         Genre  \\\n",
       "0         1  Apr-18-2014            2 States             3  RomanceGenre   \n",
       "1         2   Jan-4-2013        Table No. 21             4     Thriller    \n",
       "2         3  Jul-18-2014  Amit Sahni Ki List             4   ComedyGenre   \n",
       "3         4   Jan-4-2013    Rajdhani Express             4    DramaGenre   \n",
       "4         5   Jul-4-2014        Bobby Jasoos            44   ComedyGenre   \n",
       "\n",
       "  Budget(Cr) Box_Office_Collection  Youtube_Views  Youtube_Likes  \\\n",
       "0       36Cr                   104        8576361        26622.0   \n",
       "1       Cr10                    12        1087320         1129.0   \n",
       "2       10Cr                     4         572336          586.0   \n",
       "3        7Cr                   383          42626           86.0   \n",
       "4       18Cr                  10.8        3113427         4512.0   \n",
       "\n",
       "   Youtube_Dislikes  Youtube_Like_Dislikes  \n",
       "0            2527.0                  29149  \n",
       "1             137.0                   1266  \n",
       "2              54.0                    640  \n",
       "3              19.0                    105  \n",
       "4            1224.0                   5736  "
      ]
     },
     "execution_count": 566,
     "metadata": {},
     "output_type": "execute_result"
    }
   ],
   "source": [
    "# Head of the dataset1\n",
    "df1.head()"
   ]
  },
  {
   "cell_type": "code",
   "execution_count": 567,
   "metadata": {},
   "outputs": [
    {
     "data": {
      "text/plain": [
       "Movie_ID                 0\n",
       "Release_Date             0\n",
       "Movie_Name               0\n",
       "Release_Time             0\n",
       "Genre                    0\n",
       "Budget(Cr)               0\n",
       "Box_Office_Collection    0\n",
       "Youtube_Views            0\n",
       "Youtube_Likes            1\n",
       "Youtube_Dislikes         3\n",
       "Youtube_Like_Dislikes    0\n",
       "dtype: int64"
      ]
     },
     "execution_count": 567,
     "metadata": {},
     "output_type": "execute_result"
    }
   ],
   "source": [
    "# Check in case of null values in any records\n",
    "df1.isnull().any()\n",
    "df1.isnull().sum()"
   ]
  },
  {
   "cell_type": "markdown",
   "metadata": {},
   "source": [
    "# Observations on dataset1\n",
    "#1. Release_time column have a category '44' which is not listed.\n",
    "#2. Genre column have included the \"Genre\" additional string included in few records.\n",
    "#3. Budget(Cr) column few records have included the Cr string appended left or right to the number values.\n",
    "#4. Youtube_Likes and Youtube_Dislikes to be an integers instaed of float.\n",
    "#5. Youtube_Likes and Youtube_Dislikes are having null values in the data."
   ]
  },
  {
   "cell_type": "code",
   "execution_count": 568,
   "metadata": {},
   "outputs": [
    {
     "data": {
      "text/html": [
       "<div>\n",
       "<style scoped>\n",
       "    .dataframe tbody tr th:only-of-type {\n",
       "        vertical-align: middle;\n",
       "    }\n",
       "\n",
       "    .dataframe tbody tr th {\n",
       "        vertical-align: top;\n",
       "    }\n",
       "\n",
       "    .dataframe thead th {\n",
       "        text-align: right;\n",
       "    }\n",
       "</style>\n",
       "<table border=\"1\" class=\"dataframe\">\n",
       "  <thead>\n",
       "    <tr style=\"text-align: right;\">\n",
       "      <th></th>\n",
       "      <th>Movie_ID</th>\n",
       "      <th>Release_Date</th>\n",
       "      <th>Movie_Name</th>\n",
       "      <th>Release_Time</th>\n",
       "      <th>Genre</th>\n",
       "      <th>Budget(Cr)</th>\n",
       "      <th>Box_Office_Collection</th>\n",
       "      <th>Youtube_Views</th>\n",
       "      <th>Youtube_Likes</th>\n",
       "      <th>Youtube_Dislikes</th>\n",
       "      <th>Youtube_Like_Dislikes</th>\n",
       "    </tr>\n",
       "  </thead>\n",
       "  <tbody>\n",
       "    <tr>\n",
       "      <th>0</th>\n",
       "      <td>51</td>\n",
       "      <td>4-Jul-14</td>\n",
       "      <td>Lekar Hum Deewana Dil</td>\n",
       "      <td>N</td>\n",
       "      <td>Romance</td>\n",
       "      <td>16</td>\n",
       "      <td>2.50</td>\n",
       "      <td>3998331</td>\n",
       "      <td>2307</td>\n",
       "      <td>497</td>\n",
       "      <td>NaN</td>\n",
       "    </tr>\n",
       "    <tr>\n",
       "      <th>1</th>\n",
       "      <td>52</td>\n",
       "      <td>22-Mar-13</td>\n",
       "      <td>Aatma</td>\n",
       "      <td>N</td>\n",
       "      <td>Thriller</td>\n",
       "      <td>8</td>\n",
       "      <td>8.78</td>\n",
       "      <td>841891</td>\n",
       "      <td>997</td>\n",
       "      <td>306</td>\n",
       "      <td>NaN</td>\n",
       "    </tr>\n",
       "    <tr>\n",
       "      <th>2</th>\n",
       "      <td>53</td>\n",
       "      <td>4-Apr-14</td>\n",
       "      <td>Main Tera Hero</td>\n",
       "      <td>LW</td>\n",
       "      <td>Comedy</td>\n",
       "      <td>40</td>\n",
       "      <td>55.00</td>\n",
       "      <td>4903941</td>\n",
       "      <td>12657</td>\n",
       "      <td>2139</td>\n",
       "      <td>NaN</td>\n",
       "    </tr>\n",
       "    <tr>\n",
       "      <th>3</th>\n",
       "      <td>54</td>\n",
       "      <td>22-Mar-13</td>\n",
       "      <td>Sona Spa</td>\n",
       "      <td>N</td>\n",
       "      <td>Thriller</td>\n",
       "      <td>10</td>\n",
       "      <td>0.24</td>\n",
       "      <td>79430</td>\n",
       "      <td>61</td>\n",
       "      <td>112</td>\n",
       "      <td>NaN</td>\n",
       "    </tr>\n",
       "    <tr>\n",
       "      <th>4</th>\n",
       "      <td>55</td>\n",
       "      <td>29-Mar-13</td>\n",
       "      <td>Himmatwala</td>\n",
       "      <td>N</td>\n",
       "      <td>Action</td>\n",
       "      <td>50</td>\n",
       "      <td>100.00</td>\n",
       "      <td>2501277</td>\n",
       "      <td>1</td>\n",
       "      <td>1</td>\n",
       "      <td>NaN</td>\n",
       "    </tr>\n",
       "  </tbody>\n",
       "</table>\n",
       "</div>"
      ],
      "text/plain": [
       "   Movie_ID Release_Date             Movie_Name Release_Time     Genre  \\\n",
       "0        51     4-Jul-14  Lekar Hum Deewana Dil            N   Romance   \n",
       "1        52    22-Mar-13                  Aatma            N  Thriller   \n",
       "2        53     4-Apr-14         Main Tera Hero           LW    Comedy   \n",
       "3        54    22-Mar-13               Sona Spa            N  Thriller   \n",
       "4        55    29-Mar-13             Himmatwala            N    Action   \n",
       "\n",
       "   Budget(Cr)  Box_Office_Collection  Youtube_Views  Youtube_Likes  \\\n",
       "0          16                   2.50        3998331           2307   \n",
       "1           8                   8.78         841891            997   \n",
       "2          40                  55.00        4903941          12657   \n",
       "3          10                   0.24          79430             61   \n",
       "4          50                 100.00        2501277              1   \n",
       "\n",
       "   Youtube_Dislikes  Youtube_Like_Dislikes  \n",
       "0               497                    NaN  \n",
       "1               306                    NaN  \n",
       "2              2139                    NaN  \n",
       "3               112                    NaN  \n",
       "4                 1                    NaN  "
      ]
     },
     "execution_count": 568,
     "metadata": {},
     "output_type": "execute_result"
    }
   ],
   "source": [
    "# Head of dataset2\n",
    "df2.head()"
   ]
  },
  {
   "cell_type": "code",
   "execution_count": 569,
   "metadata": {},
   "outputs": [
    {
     "data": {
      "text/plain": [
       "Movie_ID                  0\n",
       "Release_Date              0\n",
       "Movie_Name                0\n",
       "Release_Time              0\n",
       "Genre                     0\n",
       "Budget(Cr)                0\n",
       "Box_Office_Collection     0\n",
       "Youtube_Views             0\n",
       "Youtube_Likes             0\n",
       "Youtube_Dislikes          0\n",
       "Youtube_Like_Dislikes    99\n",
       "dtype: int64"
      ]
     },
     "execution_count": 569,
     "metadata": {},
     "output_type": "execute_result"
    }
   ],
   "source": [
    "# Any null values in an features in dataframe2\n",
    "df2.isnull().any()\n",
    "df2.isnull().sum()"
   ]
  },
  {
   "cell_type": "markdown",
   "metadata": {},
   "source": [
    "# Observations on dataframe2\n",
    "#1. Release_Date column date format is different in 2 dataframes.\n",
    "#2. Release_time column is having a different categories compared to dataframe1.\n",
    "#3. Youtube_Like_Dislikes column is not available in dataframe2\n",
    "#4. Youtube_Like_Dislikes column doen't exist in the dataset2 .so , all values are null."
   ]
  },
  {
   "cell_type": "code",
   "execution_count": 570,
   "metadata": {},
   "outputs": [
    {
     "data": {
      "text/plain": [
       "array(['104', '12', '4', '383', '10.8', '35', '24.6', '40', '27',\n",
       "       'Cr0.01', '6', '10.25', '105.5', '1.8', '163', 'Cr0.09', '162',\n",
       "       '58.9', '12.6', '3.65', '14.3', '76.7', '69', '21.5', '103', '44',\n",
       "       '27.16', '10', '1.5', '25', '65', '62.2', '27.25', '16', '129',\n",
       "       '130', '32', '63.7', '22', '111', '39.4', '377', '5.82', '36',\n",
       "       '11', '32.7', '2', 'Cr0.5', '2.5'], dtype=object)"
      ]
     },
     "execution_count": 570,
     "metadata": {},
     "output_type": "execute_result"
    }
   ],
   "source": [
    "# Find unique values in any feature/attribute\n",
    "df1[\"Box_Office_Collection\"].unique()\n",
    "# There is a Cr string appended to few values"
   ]
  },
  {
   "cell_type": "markdown",
   "metadata": {},
   "source": [
    "###### Replacing Cr with null in the \"Budget\" and \"Box office collection\" features because these some mathematical operations to be calculated on the neumeric values."
   ]
  },
  {
   "cell_type": "code",
   "execution_count": 571,
   "metadata": {},
   "outputs": [],
   "source": [
    "df1[\"Budget(Cr)\"] = df1[\"Budget(Cr)\"].str.replace(\"Cr\",\"\")\n",
    "df1[\"Box_Office_Collection\"] = df1[\"Box_Office_Collection\"].str.replace(\"Cr\",\"\")"
   ]
  },
  {
   "cell_type": "markdown",
   "metadata": {},
   "source": [
    "#### Assuming that it's a typo error because we have only 4 categories of Release_time documented"
   ]
  },
  {
   "cell_type": "code",
   "execution_count": 572,
   "metadata": {},
   "outputs": [],
   "source": [
    "df1[\"Release_Time\"] = df1[\"Release_Time\"].replace({44: 4})"
   ]
  },
  {
   "cell_type": "markdown",
   "metadata": {},
   "source": [
    "#### Feature Derivation\n",
    "Splitting the Release Date into 3 new features for easy transactions/calculations and to make the transformations simple.# Release date format is not mandatory in the current business requirement to perform any operations. "
   ]
  },
  {
   "cell_type": "code",
   "execution_count": 573,
   "metadata": {},
   "outputs": [],
   "source": [
    "df1[[\"Release_Month\",\"Release_Day\",\"Release_Year\"]] = df1.Release_Date.str.split(\"-\",expand=True)\n",
    "df2[[\"Release_Day\",\"Release_Month\",\"Release_Year\"]] = df2.Release_Date.str.split(\"-\",expand=True)"
   ]
  },
  {
   "cell_type": "markdown",
   "metadata": {},
   "source": [
    "#### Concatenate 2 dataframes"
   ]
  },
  {
   "cell_type": "code",
   "execution_count": 574,
   "metadata": {},
   "outputs": [
    {
     "data": {
      "text/html": [
       "<div>\n",
       "<style scoped>\n",
       "    .dataframe tbody tr th:only-of-type {\n",
       "        vertical-align: middle;\n",
       "    }\n",
       "\n",
       "    .dataframe tbody tr th {\n",
       "        vertical-align: top;\n",
       "    }\n",
       "\n",
       "    .dataframe thead th {\n",
       "        text-align: right;\n",
       "    }\n",
       "</style>\n",
       "<table border=\"1\" class=\"dataframe\">\n",
       "  <thead>\n",
       "    <tr style=\"text-align: right;\">\n",
       "      <th></th>\n",
       "      <th>Movie_ID</th>\n",
       "      <th>Release_Date</th>\n",
       "      <th>Movie_Name</th>\n",
       "      <th>Release_Time</th>\n",
       "      <th>Genre</th>\n",
       "      <th>Budget(Cr)</th>\n",
       "      <th>Box_Office_Collection</th>\n",
       "      <th>Youtube_Views</th>\n",
       "      <th>Youtube_Likes</th>\n",
       "      <th>Youtube_Dislikes</th>\n",
       "      <th>Youtube_Like_Dislikes</th>\n",
       "      <th>Release_Month</th>\n",
       "      <th>Release_Day</th>\n",
       "      <th>Release_Year</th>\n",
       "    </tr>\n",
       "  </thead>\n",
       "  <tbody>\n",
       "    <tr>\n",
       "      <th>0</th>\n",
       "      <td>1</td>\n",
       "      <td>Apr-18-2014</td>\n",
       "      <td>2 States</td>\n",
       "      <td>3</td>\n",
       "      <td>RomanceGenre</td>\n",
       "      <td>36</td>\n",
       "      <td>104</td>\n",
       "      <td>8576361</td>\n",
       "      <td>26622.0</td>\n",
       "      <td>2527.0</td>\n",
       "      <td>29149.0</td>\n",
       "      <td>Apr</td>\n",
       "      <td>18</td>\n",
       "      <td>2014</td>\n",
       "    </tr>\n",
       "    <tr>\n",
       "      <th>1</th>\n",
       "      <td>2</td>\n",
       "      <td>Jan-4-2013</td>\n",
       "      <td>Table No. 21</td>\n",
       "      <td>4</td>\n",
       "      <td>Thriller</td>\n",
       "      <td>10</td>\n",
       "      <td>12</td>\n",
       "      <td>1087320</td>\n",
       "      <td>1129.0</td>\n",
       "      <td>137.0</td>\n",
       "      <td>1266.0</td>\n",
       "      <td>Jan</td>\n",
       "      <td>4</td>\n",
       "      <td>2013</td>\n",
       "    </tr>\n",
       "    <tr>\n",
       "      <th>2</th>\n",
       "      <td>3</td>\n",
       "      <td>Jul-18-2014</td>\n",
       "      <td>Amit Sahni Ki List</td>\n",
       "      <td>4</td>\n",
       "      <td>ComedyGenre</td>\n",
       "      <td>10</td>\n",
       "      <td>4</td>\n",
       "      <td>572336</td>\n",
       "      <td>586.0</td>\n",
       "      <td>54.0</td>\n",
       "      <td>640.0</td>\n",
       "      <td>Jul</td>\n",
       "      <td>18</td>\n",
       "      <td>2014</td>\n",
       "    </tr>\n",
       "    <tr>\n",
       "      <th>3</th>\n",
       "      <td>4</td>\n",
       "      <td>Jan-4-2013</td>\n",
       "      <td>Rajdhani Express</td>\n",
       "      <td>4</td>\n",
       "      <td>DramaGenre</td>\n",
       "      <td>7</td>\n",
       "      <td>383</td>\n",
       "      <td>42626</td>\n",
       "      <td>86.0</td>\n",
       "      <td>19.0</td>\n",
       "      <td>105.0</td>\n",
       "      <td>Jan</td>\n",
       "      <td>4</td>\n",
       "      <td>2013</td>\n",
       "    </tr>\n",
       "    <tr>\n",
       "      <th>4</th>\n",
       "      <td>5</td>\n",
       "      <td>Jul-4-2014</td>\n",
       "      <td>Bobby Jasoos</td>\n",
       "      <td>4</td>\n",
       "      <td>ComedyGenre</td>\n",
       "      <td>18</td>\n",
       "      <td>10.8</td>\n",
       "      <td>3113427</td>\n",
       "      <td>4512.0</td>\n",
       "      <td>1224.0</td>\n",
       "      <td>5736.0</td>\n",
       "      <td>Jul</td>\n",
       "      <td>4</td>\n",
       "      <td>2014</td>\n",
       "    </tr>\n",
       "    <tr>\n",
       "      <th>...</th>\n",
       "      <td>...</td>\n",
       "      <td>...</td>\n",
       "      <td>...</td>\n",
       "      <td>...</td>\n",
       "      <td>...</td>\n",
       "      <td>...</td>\n",
       "      <td>...</td>\n",
       "      <td>...</td>\n",
       "      <td>...</td>\n",
       "      <td>...</td>\n",
       "      <td>...</td>\n",
       "      <td>...</td>\n",
       "      <td>...</td>\n",
       "      <td>...</td>\n",
       "    </tr>\n",
       "    <tr>\n",
       "      <th>145</th>\n",
       "      <td>145</td>\n",
       "      <td>27-Feb-15</td>\n",
       "      <td>Dum Laga Ke Haisha</td>\n",
       "      <td>N</td>\n",
       "      <td>Comedy</td>\n",
       "      <td>15</td>\n",
       "      <td>30</td>\n",
       "      <td>3250917</td>\n",
       "      <td>8185.0</td>\n",
       "      <td>615.0</td>\n",
       "      <td>NaN</td>\n",
       "      <td>Feb</td>\n",
       "      <td>27</td>\n",
       "      <td>15</td>\n",
       "    </tr>\n",
       "    <tr>\n",
       "      <th>146</th>\n",
       "      <td>146</td>\n",
       "      <td>13-Mar-15</td>\n",
       "      <td>NH10</td>\n",
       "      <td>N</td>\n",
       "      <td>Thriller</td>\n",
       "      <td>13</td>\n",
       "      <td>32.1</td>\n",
       "      <td>5592977</td>\n",
       "      <td>15464.0</td>\n",
       "      <td>1513.0</td>\n",
       "      <td>NaN</td>\n",
       "      <td>Mar</td>\n",
       "      <td>13</td>\n",
       "      <td>15</td>\n",
       "    </tr>\n",
       "    <tr>\n",
       "      <th>147</th>\n",
       "      <td>147</td>\n",
       "      <td>20-Mar-15</td>\n",
       "      <td>Dilliwali Zaalim Girlfriend</td>\n",
       "      <td>N</td>\n",
       "      <td>Comedy</td>\n",
       "      <td>32</td>\n",
       "      <td>12</td>\n",
       "      <td>2316047</td>\n",
       "      <td>4289.0</td>\n",
       "      <td>807.0</td>\n",
       "      <td>NaN</td>\n",
       "      <td>Mar</td>\n",
       "      <td>20</td>\n",
       "      <td>15</td>\n",
       "    </tr>\n",
       "    <tr>\n",
       "      <th>148</th>\n",
       "      <td>148</td>\n",
       "      <td>20-Mar-15</td>\n",
       "      <td>Hunterrr</td>\n",
       "      <td>N</td>\n",
       "      <td>Comedy</td>\n",
       "      <td>5</td>\n",
       "      <td>11.89</td>\n",
       "      <td>4674795</td>\n",
       "      <td>3706.0</td>\n",
       "      <td>762.0</td>\n",
       "      <td>NaN</td>\n",
       "      <td>Mar</td>\n",
       "      <td>20</td>\n",
       "      <td>15</td>\n",
       "    </tr>\n",
       "    <tr>\n",
       "      <th>149</th>\n",
       "      <td>149</td>\n",
       "      <td>23-May-14</td>\n",
       "      <td>Kochadaiiyaan</td>\n",
       "      <td>HS</td>\n",
       "      <td>Action</td>\n",
       "      <td>150</td>\n",
       "      <td>120</td>\n",
       "      <td>4740727</td>\n",
       "      <td>13466.0</td>\n",
       "      <td>2649.0</td>\n",
       "      <td>NaN</td>\n",
       "      <td>May</td>\n",
       "      <td>23</td>\n",
       "      <td>14</td>\n",
       "    </tr>\n",
       "  </tbody>\n",
       "</table>\n",
       "<p>150 rows × 14 columns</p>\n",
       "</div>"
      ],
      "text/plain": [
       "     Movie_ID Release_Date                   Movie_Name Release_Time  \\\n",
       "0           1  Apr-18-2014                     2 States            3   \n",
       "1           2   Jan-4-2013                 Table No. 21            4   \n",
       "2           3  Jul-18-2014           Amit Sahni Ki List            4   \n",
       "3           4   Jan-4-2013             Rajdhani Express            4   \n",
       "4           5   Jul-4-2014                 Bobby Jasoos            4   \n",
       "..        ...          ...                          ...          ...   \n",
       "145       145    27-Feb-15           Dum Laga Ke Haisha            N   \n",
       "146       146    13-Mar-15                         NH10            N   \n",
       "147       147    20-Mar-15  Dilliwali Zaalim Girlfriend            N   \n",
       "148       148    20-Mar-15                     Hunterrr            N   \n",
       "149       149    23-May-14                Kochadaiiyaan           HS   \n",
       "\n",
       "            Genre Budget(Cr) Box_Office_Collection  Youtube_Views  \\\n",
       "0    RomanceGenre         36                   104        8576361   \n",
       "1       Thriller          10                    12        1087320   \n",
       "2     ComedyGenre         10                     4         572336   \n",
       "3      DramaGenre          7                   383          42626   \n",
       "4     ComedyGenre         18                  10.8        3113427   \n",
       "..            ...        ...                   ...            ...   \n",
       "145        Comedy         15                    30        3250917   \n",
       "146      Thriller         13                  32.1        5592977   \n",
       "147        Comedy         32                    12        2316047   \n",
       "148        Comedy          5                 11.89        4674795   \n",
       "149        Action        150                   120        4740727   \n",
       "\n",
       "     Youtube_Likes  Youtube_Dislikes  Youtube_Like_Dislikes Release_Month  \\\n",
       "0          26622.0            2527.0                29149.0           Apr   \n",
       "1           1129.0             137.0                 1266.0           Jan   \n",
       "2            586.0              54.0                  640.0           Jul   \n",
       "3             86.0              19.0                  105.0           Jan   \n",
       "4           4512.0            1224.0                 5736.0           Jul   \n",
       "..             ...               ...                    ...           ...   \n",
       "145         8185.0             615.0                    NaN           Feb   \n",
       "146        15464.0            1513.0                    NaN           Mar   \n",
       "147         4289.0             807.0                    NaN           Mar   \n",
       "148         3706.0             762.0                    NaN           Mar   \n",
       "149        13466.0            2649.0                    NaN           May   \n",
       "\n",
       "    Release_Day Release_Year  \n",
       "0            18         2014  \n",
       "1             4         2013  \n",
       "2            18         2014  \n",
       "3             4         2013  \n",
       "4             4         2014  \n",
       "..          ...          ...  \n",
       "145          27           15  \n",
       "146          13           15  \n",
       "147          20           15  \n",
       "148          20           15  \n",
       "149          23           14  \n",
       "\n",
       "[150 rows x 14 columns]"
      ]
     },
     "execution_count": 574,
     "metadata": {},
     "output_type": "execute_result"
    }
   ],
   "source": [
    "dataset  = pd.concat([df1,df2],ignore_index= True)\n",
    "dataset"
   ]
  },
  {
   "cell_type": "markdown",
   "metadata": {},
   "source": [
    "#### Converting the \"Budget(Cr)\",\"Box_Office_Collection\" feature to float datatype"
   ]
  },
  {
   "cell_type": "code",
   "execution_count": 575,
   "metadata": {},
   "outputs": [],
   "source": [
    "dataset[[\"Budget(Cr)\",\"Box_Office_Collection\"]] = dataset[[\"Budget(Cr)\",\"Box_Office_Collection\"]].astype(float)"
   ]
  },
  {
   "cell_type": "markdown",
   "metadata": {},
   "source": [
    "#### Feature Creation:##Adding new feature to calculate Return on Investment(ROI)"
   ]
  },
  {
   "cell_type": "code",
   "execution_count": 576,
   "metadata": {},
   "outputs": [],
   "source": [
    "dataset[\"Return_On_Investment\"] = (dataset[\"Box_Office_Collection\"] - dataset[\"Budget(Cr)\"] )/ dataset[\"Budget(Cr)\"]"
   ]
  },
  {
   "cell_type": "markdown",
   "metadata": {},
   "source": [
    "#### Cleanup the movie Release month and year based on the External sources reference as it is a small dataset. This can be handled by any external API to clear data issues."
   ]
  },
  {
   "cell_type": "code",
   "execution_count": 577,
   "metadata": {},
   "outputs": [],
   "source": [
    "dataset[\"Release_Year\"] = dataset[\"Release_Year\"].replace({'204': 2014,'13': 2013,'14': 2014,'15': 2015})\n",
    "dataset[\"Release_Month\"] = dataset[\"Release_Month\"].replace({'Sqp': 'Sep','Jum': 'Jun','juu': 'Jun'})\n",
    "dataset[\"Release_Day\"] = dataset[\"Release_Day\"].astype(int)"
   ]
  },
  {
   "cell_type": "markdown",
   "metadata": {},
   "source": [
    "#### Data Cleansing"
   ]
  },
  {
   "cell_type": "code",
   "execution_count": 578,
   "metadata": {},
   "outputs": [
    {
     "data": {
      "text/plain": [
       "CategoricalDtype(categories=['Action', 'Comedy', 'Drama', 'Romance', 'Thriller'], ordered=False)"
      ]
     },
     "execution_count": 578,
     "metadata": {},
     "output_type": "execute_result"
    }
   ],
   "source": [
    "#Repalces Genre word with null\n",
    "dataset[\"Genre\"] = dataset[\"Genre\"].str.replace(\"Genre\", \"\")\n",
    "#Removed spaces from left and right do the string\n",
    "dataset[\"Genre\"] = dataset[\"Genre\"].str.strip()\n",
    "# Changed the Genre column to categorical\n",
    "dataset[\"Genre\"] = pd.Categorical(dataset[\"Genre\"])\n",
    "dataset[\"Genre\"].dtype"
   ]
  },
  {
   "cell_type": "code",
   "execution_count": 579,
   "metadata": {},
   "outputs": [
    {
     "data": {
      "text/plain": [
       "CategoricalDtype(categories=[1, 2, 3, 4], ordered=False)"
      ]
     },
     "execution_count": 579,
     "metadata": {},
     "output_type": "execute_result"
    }
   ],
   "source": [
    "# Repalced the Release_Time values with intergers to maintain uniformity across the column\n",
    "dataset[\"Release_Time\"] = dataset['Release_Time'].replace({'FS': 1,'HS': 2,'LW': 3, 'N': 4})\n",
    "# Assuming it's a typo error. So cleared it.\n",
    "dataset[\"Release_Time\"] = dataset['Release_Time'].replace(44, 4)\n",
    "# Changed the Genre column to categorical\n",
    "dataset[\"Release_Time\"] = pd.Categorical(dataset[\"Release_Time\"])\n",
    "dataset[\"Release_Time\"].dtype"
   ]
  },
  {
   "cell_type": "markdown",
   "metadata": {},
   "source": [
    "#### Missing Values or Null Imputation\n",
    "#These columns can be dropped from the dataset because these are not useful for the problem statement.\n",
    "\n",
    "#Youtube_Like_Dislikes column is a sum of Youtube_Likes and Youtube_Dislikes. The null values will be imputed with difference"
   ]
  },
  {
   "cell_type": "code",
   "execution_count": 580,
   "metadata": {},
   "outputs": [
    {
     "ename": "ValueError",
     "evalue": "Cannot convert non-finite values (NA or inf) to integer",
     "output_type": "error",
     "traceback": [
      "\u001b[1;31m---------------------------------------------------------------------------\u001b[0m",
      "\u001b[1;31mValueError\u001b[0m                                Traceback (most recent call last)",
      "\u001b[1;32m<ipython-input-580-d66e570d3ef1>\u001b[0m in \u001b[0;36m<module>\u001b[1;34m\u001b[0m\n\u001b[0;32m      3\u001b[0m \u001b[0mdataset\u001b[0m\u001b[1;33m[\u001b[0m\u001b[1;34m\"Youtube_Likes\"\u001b[0m\u001b[1;33m]\u001b[0m \u001b[1;33m=\u001b[0m \u001b[0mdataset\u001b[0m\u001b[1;33m[\u001b[0m\u001b[1;34m\"Youtube_Likes\"\u001b[0m\u001b[1;33m]\u001b[0m\u001b[1;33m.\u001b[0m\u001b[0mfillna\u001b[0m\u001b[1;33m(\u001b[0m\u001b[0mdataset\u001b[0m\u001b[1;33m[\u001b[0m\u001b[1;34m\"Youtube_Like_Dislikes\"\u001b[0m\u001b[1;33m]\u001b[0m \u001b[1;33m-\u001b[0m \u001b[0mdataset\u001b[0m\u001b[1;33m[\u001b[0m\u001b[1;34m\"Youtube_Dislikes\"\u001b[0m\u001b[1;33m]\u001b[0m\u001b[1;33m)\u001b[0m\u001b[1;33m\u001b[0m\u001b[1;33m\u001b[0m\u001b[0m\n\u001b[0;32m      4\u001b[0m \u001b[0mdataset\u001b[0m\u001b[1;33m[\u001b[0m\u001b[1;34m\"Youtube_Dislikes\"\u001b[0m\u001b[1;33m]\u001b[0m \u001b[1;33m=\u001b[0m \u001b[0mdataset\u001b[0m\u001b[1;33m[\u001b[0m\u001b[1;34m\"Youtube_Dislikes\"\u001b[0m\u001b[1;33m]\u001b[0m\u001b[1;33m.\u001b[0m\u001b[0mfillna\u001b[0m\u001b[1;33m(\u001b[0m\u001b[0mdataset\u001b[0m\u001b[1;33m[\u001b[0m\u001b[1;34m\"Youtube_Like_Dislikes\"\u001b[0m\u001b[1;33m]\u001b[0m \u001b[1;33m-\u001b[0m \u001b[0mdataset\u001b[0m\u001b[1;33m[\u001b[0m\u001b[1;34m\"Youtube_Dislikes\"\u001b[0m\u001b[1;33m]\u001b[0m\u001b[1;33m)\u001b[0m\u001b[1;33m\u001b[0m\u001b[1;33m\u001b[0m\u001b[0m\n\u001b[1;32m----> 5\u001b[1;33m \u001b[0mdataset\u001b[0m\u001b[1;33m[\u001b[0m\u001b[1;33m[\u001b[0m\u001b[1;34m\"Youtube_Dislikes\"\u001b[0m\u001b[1;33m,\u001b[0m\u001b[1;34m\"Youtube_Likes\"\u001b[0m\u001b[1;33m]\u001b[0m\u001b[1;33m]\u001b[0m \u001b[1;33m=\u001b[0m \u001b[0mdataset\u001b[0m\u001b[1;33m[\u001b[0m\u001b[1;33m[\u001b[0m\u001b[1;34m\"Youtube_Dislikes\"\u001b[0m\u001b[1;33m,\u001b[0m\u001b[1;34m\"Youtube_Likes\"\u001b[0m\u001b[1;33m]\u001b[0m\u001b[1;33m]\u001b[0m\u001b[1;33m.\u001b[0m\u001b[0mround\u001b[0m\u001b[1;33m(\u001b[0m\u001b[1;36m0\u001b[0m\u001b[1;33m)\u001b[0m\u001b[1;33m.\u001b[0m\u001b[0mastype\u001b[0m\u001b[1;33m(\u001b[0m\u001b[0mint\u001b[0m\u001b[1;33m)\u001b[0m\u001b[1;33m\u001b[0m\u001b[1;33m\u001b[0m\u001b[0m\n\u001b[0m\u001b[0;32m      6\u001b[0m \u001b[0mdataset\u001b[0m\u001b[1;33m[\u001b[0m\u001b[1;33m[\u001b[0m\u001b[1;34m\"Youtube_Dislikes\"\u001b[0m\u001b[1;33m,\u001b[0m\u001b[1;34m\"Youtube_Likes\"\u001b[0m\u001b[1;33m]\u001b[0m\u001b[1;33m]\u001b[0m\u001b[1;33m.\u001b[0m\u001b[0mdtypes\u001b[0m\u001b[1;33m\u001b[0m\u001b[1;33m\u001b[0m\u001b[0m\n",
      "\u001b[1;32m~\\anaconda3\\lib\\site-packages\\pandas\\core\\generic.py\u001b[0m in \u001b[0;36mastype\u001b[1;34m(self, dtype, copy, errors)\u001b[0m\n\u001b[0;32m   5696\u001b[0m         \u001b[1;32melse\u001b[0m\u001b[1;33m:\u001b[0m\u001b[1;33m\u001b[0m\u001b[1;33m\u001b[0m\u001b[0m\n\u001b[0;32m   5697\u001b[0m             \u001b[1;31m# else, only a single dtype is given\u001b[0m\u001b[1;33m\u001b[0m\u001b[1;33m\u001b[0m\u001b[1;33m\u001b[0m\u001b[0m\n\u001b[1;32m-> 5698\u001b[1;33m             \u001b[0mnew_data\u001b[0m \u001b[1;33m=\u001b[0m \u001b[0mself\u001b[0m\u001b[1;33m.\u001b[0m\u001b[0m_data\u001b[0m\u001b[1;33m.\u001b[0m\u001b[0mastype\u001b[0m\u001b[1;33m(\u001b[0m\u001b[0mdtype\u001b[0m\u001b[1;33m=\u001b[0m\u001b[0mdtype\u001b[0m\u001b[1;33m,\u001b[0m \u001b[0mcopy\u001b[0m\u001b[1;33m=\u001b[0m\u001b[0mcopy\u001b[0m\u001b[1;33m,\u001b[0m \u001b[0merrors\u001b[0m\u001b[1;33m=\u001b[0m\u001b[0merrors\u001b[0m\u001b[1;33m)\u001b[0m\u001b[1;33m\u001b[0m\u001b[1;33m\u001b[0m\u001b[0m\n\u001b[0m\u001b[0;32m   5699\u001b[0m             \u001b[1;32mreturn\u001b[0m \u001b[0mself\u001b[0m\u001b[1;33m.\u001b[0m\u001b[0m_constructor\u001b[0m\u001b[1;33m(\u001b[0m\u001b[0mnew_data\u001b[0m\u001b[1;33m)\u001b[0m\u001b[1;33m.\u001b[0m\u001b[0m__finalize__\u001b[0m\u001b[1;33m(\u001b[0m\u001b[0mself\u001b[0m\u001b[1;33m)\u001b[0m\u001b[1;33m\u001b[0m\u001b[1;33m\u001b[0m\u001b[0m\n\u001b[0;32m   5700\u001b[0m \u001b[1;33m\u001b[0m\u001b[0m\n",
      "\u001b[1;32m~\\anaconda3\\lib\\site-packages\\pandas\\core\\internals\\managers.py\u001b[0m in \u001b[0;36mastype\u001b[1;34m(self, dtype, copy, errors)\u001b[0m\n\u001b[0;32m    580\u001b[0m \u001b[1;33m\u001b[0m\u001b[0m\n\u001b[0;32m    581\u001b[0m     \u001b[1;32mdef\u001b[0m \u001b[0mastype\u001b[0m\u001b[1;33m(\u001b[0m\u001b[0mself\u001b[0m\u001b[1;33m,\u001b[0m \u001b[0mdtype\u001b[0m\u001b[1;33m,\u001b[0m \u001b[0mcopy\u001b[0m\u001b[1;33m:\u001b[0m \u001b[0mbool\u001b[0m \u001b[1;33m=\u001b[0m \u001b[1;32mFalse\u001b[0m\u001b[1;33m,\u001b[0m \u001b[0merrors\u001b[0m\u001b[1;33m:\u001b[0m \u001b[0mstr\u001b[0m \u001b[1;33m=\u001b[0m \u001b[1;34m\"raise\"\u001b[0m\u001b[1;33m)\u001b[0m\u001b[1;33m:\u001b[0m\u001b[1;33m\u001b[0m\u001b[1;33m\u001b[0m\u001b[0m\n\u001b[1;32m--> 582\u001b[1;33m         \u001b[1;32mreturn\u001b[0m \u001b[0mself\u001b[0m\u001b[1;33m.\u001b[0m\u001b[0mapply\u001b[0m\u001b[1;33m(\u001b[0m\u001b[1;34m\"astype\"\u001b[0m\u001b[1;33m,\u001b[0m \u001b[0mdtype\u001b[0m\u001b[1;33m=\u001b[0m\u001b[0mdtype\u001b[0m\u001b[1;33m,\u001b[0m \u001b[0mcopy\u001b[0m\u001b[1;33m=\u001b[0m\u001b[0mcopy\u001b[0m\u001b[1;33m,\u001b[0m \u001b[0merrors\u001b[0m\u001b[1;33m=\u001b[0m\u001b[0merrors\u001b[0m\u001b[1;33m)\u001b[0m\u001b[1;33m\u001b[0m\u001b[1;33m\u001b[0m\u001b[0m\n\u001b[0m\u001b[0;32m    583\u001b[0m \u001b[1;33m\u001b[0m\u001b[0m\n\u001b[0;32m    584\u001b[0m     \u001b[1;32mdef\u001b[0m \u001b[0mconvert\u001b[0m\u001b[1;33m(\u001b[0m\u001b[0mself\u001b[0m\u001b[1;33m,\u001b[0m \u001b[1;33m**\u001b[0m\u001b[0mkwargs\u001b[0m\u001b[1;33m)\u001b[0m\u001b[1;33m:\u001b[0m\u001b[1;33m\u001b[0m\u001b[1;33m\u001b[0m\u001b[0m\n",
      "\u001b[1;32m~\\anaconda3\\lib\\site-packages\\pandas\\core\\internals\\managers.py\u001b[0m in \u001b[0;36mapply\u001b[1;34m(self, f, filter, **kwargs)\u001b[0m\n\u001b[0;32m    440\u001b[0m                 \u001b[0mapplied\u001b[0m \u001b[1;33m=\u001b[0m \u001b[0mb\u001b[0m\u001b[1;33m.\u001b[0m\u001b[0mapply\u001b[0m\u001b[1;33m(\u001b[0m\u001b[0mf\u001b[0m\u001b[1;33m,\u001b[0m \u001b[1;33m**\u001b[0m\u001b[0mkwargs\u001b[0m\u001b[1;33m)\u001b[0m\u001b[1;33m\u001b[0m\u001b[1;33m\u001b[0m\u001b[0m\n\u001b[0;32m    441\u001b[0m             \u001b[1;32melse\u001b[0m\u001b[1;33m:\u001b[0m\u001b[1;33m\u001b[0m\u001b[1;33m\u001b[0m\u001b[0m\n\u001b[1;32m--> 442\u001b[1;33m                 \u001b[0mapplied\u001b[0m \u001b[1;33m=\u001b[0m \u001b[0mgetattr\u001b[0m\u001b[1;33m(\u001b[0m\u001b[0mb\u001b[0m\u001b[1;33m,\u001b[0m \u001b[0mf\u001b[0m\u001b[1;33m)\u001b[0m\u001b[1;33m(\u001b[0m\u001b[1;33m**\u001b[0m\u001b[0mkwargs\u001b[0m\u001b[1;33m)\u001b[0m\u001b[1;33m\u001b[0m\u001b[1;33m\u001b[0m\u001b[0m\n\u001b[0m\u001b[0;32m    443\u001b[0m             \u001b[0mresult_blocks\u001b[0m \u001b[1;33m=\u001b[0m \u001b[0m_extend_blocks\u001b[0m\u001b[1;33m(\u001b[0m\u001b[0mapplied\u001b[0m\u001b[1;33m,\u001b[0m \u001b[0mresult_blocks\u001b[0m\u001b[1;33m)\u001b[0m\u001b[1;33m\u001b[0m\u001b[1;33m\u001b[0m\u001b[0m\n\u001b[0;32m    444\u001b[0m \u001b[1;33m\u001b[0m\u001b[0m\n",
      "\u001b[1;32m~\\anaconda3\\lib\\site-packages\\pandas\\core\\internals\\blocks.py\u001b[0m in \u001b[0;36mastype\u001b[1;34m(self, dtype, copy, errors)\u001b[0m\n\u001b[0;32m    623\u001b[0m             \u001b[0mvals1d\u001b[0m \u001b[1;33m=\u001b[0m \u001b[0mvalues\u001b[0m\u001b[1;33m.\u001b[0m\u001b[0mravel\u001b[0m\u001b[1;33m(\u001b[0m\u001b[1;33m)\u001b[0m\u001b[1;33m\u001b[0m\u001b[1;33m\u001b[0m\u001b[0m\n\u001b[0;32m    624\u001b[0m             \u001b[1;32mtry\u001b[0m\u001b[1;33m:\u001b[0m\u001b[1;33m\u001b[0m\u001b[1;33m\u001b[0m\u001b[0m\n\u001b[1;32m--> 625\u001b[1;33m                 \u001b[0mvalues\u001b[0m \u001b[1;33m=\u001b[0m \u001b[0mastype_nansafe\u001b[0m\u001b[1;33m(\u001b[0m\u001b[0mvals1d\u001b[0m\u001b[1;33m,\u001b[0m \u001b[0mdtype\u001b[0m\u001b[1;33m,\u001b[0m \u001b[0mcopy\u001b[0m\u001b[1;33m=\u001b[0m\u001b[1;32mTrue\u001b[0m\u001b[1;33m)\u001b[0m\u001b[1;33m\u001b[0m\u001b[1;33m\u001b[0m\u001b[0m\n\u001b[0m\u001b[0;32m    626\u001b[0m             \u001b[1;32mexcept\u001b[0m \u001b[1;33m(\u001b[0m\u001b[0mValueError\u001b[0m\u001b[1;33m,\u001b[0m \u001b[0mTypeError\u001b[0m\u001b[1;33m)\u001b[0m\u001b[1;33m:\u001b[0m\u001b[1;33m\u001b[0m\u001b[1;33m\u001b[0m\u001b[0m\n\u001b[0;32m    627\u001b[0m                 \u001b[1;31m# e.g. astype_nansafe can fail on object-dtype of strings\u001b[0m\u001b[1;33m\u001b[0m\u001b[1;33m\u001b[0m\u001b[1;33m\u001b[0m\u001b[0m\n",
      "\u001b[1;32m~\\anaconda3\\lib\\site-packages\\pandas\\core\\dtypes\\cast.py\u001b[0m in \u001b[0;36mastype_nansafe\u001b[1;34m(arr, dtype, copy, skipna)\u001b[0m\n\u001b[0;32m    866\u001b[0m \u001b[1;33m\u001b[0m\u001b[0m\n\u001b[0;32m    867\u001b[0m         \u001b[1;32mif\u001b[0m \u001b[1;32mnot\u001b[0m \u001b[0mnp\u001b[0m\u001b[1;33m.\u001b[0m\u001b[0misfinite\u001b[0m\u001b[1;33m(\u001b[0m\u001b[0marr\u001b[0m\u001b[1;33m)\u001b[0m\u001b[1;33m.\u001b[0m\u001b[0mall\u001b[0m\u001b[1;33m(\u001b[0m\u001b[1;33m)\u001b[0m\u001b[1;33m:\u001b[0m\u001b[1;33m\u001b[0m\u001b[1;33m\u001b[0m\u001b[0m\n\u001b[1;32m--> 868\u001b[1;33m             \u001b[1;32mraise\u001b[0m \u001b[0mValueError\u001b[0m\u001b[1;33m(\u001b[0m\u001b[1;34m\"Cannot convert non-finite values (NA or inf) to integer\"\u001b[0m\u001b[1;33m)\u001b[0m\u001b[1;33m\u001b[0m\u001b[1;33m\u001b[0m\u001b[0m\n\u001b[0m\u001b[0;32m    869\u001b[0m \u001b[1;33m\u001b[0m\u001b[0m\n\u001b[0;32m    870\u001b[0m     \u001b[1;32melif\u001b[0m \u001b[0mis_object_dtype\u001b[0m\u001b[1;33m(\u001b[0m\u001b[0marr\u001b[0m\u001b[1;33m)\u001b[0m\u001b[1;33m:\u001b[0m\u001b[1;33m\u001b[0m\u001b[1;33m\u001b[0m\u001b[0m\n",
      "\u001b[1;31mValueError\u001b[0m: Cannot convert non-finite values (NA or inf) to integer"
     ]
    }
   ],
   "source": [
    "# Replaced null values with 0 because there is a possibility of Likes and dislikes for a movie can be zero. \n",
    "# This problem statement is not using these features for any dependent variables.\n",
    "dataset[\"Youtube_Likes\"] = dataset[\"Youtube_Likes\"].fillna(dataset[\"Youtube_Like_Dislikes\"] - dataset[\"Youtube_Dislikes\"])\n",
    "dataset[\"Youtube_Dislikes\"] = dataset[\"Youtube_Dislikes\"].fillna(dataset[\"Youtube_Like_Dislikes\"] - dataset[\"Youtube_Dislikes\"])\n",
    "dataset[[\"Youtube_Dislikes\",\"Youtube_Likes\"]] = dataset[[\"Youtube_Dislikes\",\"Youtube_Likes\"]].round(0).astype(int)\n",
    "dataset[[\"Youtube_Dislikes\",\"Youtube_Likes\"]].dtypes"
   ]
  },
  {
   "cell_type": "code",
   "execution_count": 581,
   "metadata": {},
   "outputs": [
    {
     "data": {
      "text/plain": [
       "dtype('int32')"
      ]
     },
     "execution_count": 581,
     "metadata": {},
     "output_type": "execute_result"
    }
   ],
   "source": [
    "# Youtube_Like_Dislikes column is a sum of Youtube_Likes and Youtube_Dislikes.So filled with a sum value. \n",
    "dataset[\"Youtube_Like_Dislikes\"] = dataset[\"Youtube_Like_Dislikes\"].fillna(dataset[\"Youtube_Dislikes\"] + dataset[\"Youtube_Likes\"])\n",
    "dataset[\"Youtube_Like_Dislikes\"] = dataset[\"Youtube_Like_Dislikes\"].round(0).astype(int)\n",
    "dataset[\"Youtube_Like_Dislikes\"].dtypes"
   ]
  },
  {
   "cell_type": "code",
   "execution_count": 582,
   "metadata": {},
   "outputs": [
    {
     "name": "stdout",
     "output_type": "stream",
     "text": [
      "<class 'pandas.core.frame.DataFrame'>\n",
      "RangeIndex: 150 entries, 0 to 149\n",
      "Data columns (total 15 columns):\n",
      " #   Column                 Non-Null Count  Dtype   \n",
      "---  ------                 --------------  -----   \n",
      " 0   Movie_ID               150 non-null    int64   \n",
      " 1   Release_Date           150 non-null    object  \n",
      " 2   Movie_Name             150 non-null    object  \n",
      " 3   Release_Time           150 non-null    category\n",
      " 4   Genre                  150 non-null    category\n",
      " 5   Budget(Cr)             150 non-null    float64 \n",
      " 6   Box_Office_Collection  150 non-null    float64 \n",
      " 7   Youtube_Views          150 non-null    int64   \n",
      " 8   Youtube_Likes          150 non-null    float64 \n",
      " 9   Youtube_Dislikes       147 non-null    float64 \n",
      " 10  Youtube_Like_Dislikes  150 non-null    int32   \n",
      " 11  Release_Month          150 non-null    object  \n",
      " 12  Release_Day            150 non-null    int32   \n",
      " 13  Release_Year           150 non-null    int64   \n",
      " 14  Return_On_Investment   150 non-null    float64 \n",
      "dtypes: category(2), float64(5), int32(2), int64(3), object(3)\n",
      "memory usage: 14.9+ KB\n"
     ]
    },
    {
     "data": {
      "text/plain": [
       "Movie_ID                 False\n",
       "Release_Date             False\n",
       "Movie_Name               False\n",
       "Release_Time             False\n",
       "Genre                    False\n",
       "Budget(Cr)               False\n",
       "Box_Office_Collection    False\n",
       "Youtube_Views            False\n",
       "Youtube_Likes            False\n",
       "Youtube_Dislikes          True\n",
       "Youtube_Like_Dislikes    False\n",
       "Release_Month            False\n",
       "Release_Day              False\n",
       "Release_Year             False\n",
       "Return_On_Investment     False\n",
       "dtype: bool"
      ]
     },
     "execution_count": 582,
     "metadata": {},
     "output_type": "execute_result"
    }
   ],
   "source": [
    "dataset.info()\n",
    "dataset.isnull().any()"
   ]
  },
  {
   "cell_type": "markdown",
   "metadata": {},
   "source": [
    "#### Drop Duplicate values"
   ]
  },
  {
   "cell_type": "code",
   "execution_count": 583,
   "metadata": {},
   "outputs": [],
   "source": [
    "#df = df.reset_index().drop_duplicates(subset=['Movie_Name'],keep='first').set_index('index')\n",
    "dataset = dataset.reset_index().drop_duplicates().set_index('index')"
   ]
  },
  {
   "cell_type": "markdown",
   "metadata": {},
   "source": [
    "#### Finding Outliers"
   ]
  },
  {
   "cell_type": "code",
   "execution_count": 584,
   "metadata": {},
   "outputs": [
    {
     "data": {
      "text/plain": [
       "<matplotlib.axes._subplots.AxesSubplot at 0x296e26e0448>"
      ]
     },
     "execution_count": 584,
     "metadata": {},
     "output_type": "execute_result"
    },
    {
     "data": {
      "image/png": "[encoded data removed]",
      "text/plain": [
       "<Figure size 432x288 with 1 Axes>"
      ]
     },
     "metadata": {
      "needs_background": "light"
     },
     "output_type": "display_data"
    }
   ],
   "source": [
    "sns.boxplot(dataset['Return_On_Investment'])"
   ]
  },
  {
   "cell_type": "code",
   "execution_count": 585,
   "metadata": {},
   "outputs": [
    {
     "data": {
      "text/plain": [
       "<matplotlib.axes._subplots.AxesSubplot at 0x296e2710d88>"
      ]
     },
     "execution_count": 585,
     "metadata": {},
     "output_type": "execute_result"
    },
    {
     "data": {
      "image/png": "[encoded data removed]",
      "text/plain": [
       "<Figure size 432x288 with 1 Axes>"
      ]
     },
     "metadata": {
      "needs_background": "light"
     },
     "output_type": "display_data"
    }
   ],
   "source": [
    "sns.boxplot(dataset['Budget(Cr)'])"
   ]
  },
  {
   "cell_type": "code",
   "execution_count": 586,
   "metadata": {},
   "outputs": [
    {
     "data": {
      "text/plain": [
       "<matplotlib.axes._subplots.AxesSubplot at 0x296e278ba48>"
      ]
     },
     "execution_count": 586,
     "metadata": {},
     "output_type": "execute_result"
    },
    {
     "data": {
      "image/png": "[encoded data removed]",
      "text/plain": [
       "<Figure size 432x288 with 1 Axes>"
      ]
     },
     "metadata": {
      "needs_background": "light"
     },
     "output_type": "display_data"
    }
   ],
   "source": [
    "sns.boxplot(dataset['Box_Office_Collection'])"
   ]
  },
  {
   "cell_type": "markdown",
   "metadata": {},
   "source": [
    "#### Observed multiple outliers in Budget and box office collection which leads to ROI outliers. Considering a small dataset, these will values may appear as outliers but these could be in a different group of movies. So not dropping any outliers based on the domain consideration. "
   ]
  },
  {
   "cell_type": "markdown",
   "metadata": {},
   "source": [
    "## Data Quality:\n",
    "1. Data integration from multiple datasets\n",
    "2. Missing values/Null values Imputation\n",
    "3. Feature Extraction/Derivation\n",
    "4. feature creation\n",
    "5. Data Correction/Cleaning\n",
    "6. Outliers\n",
    "7. Data type changes\n",
    "8. Feature Deletion\n",
    "    "
   ]
  },
  {
   "cell_type": "markdown",
   "metadata": {},
   "source": [
    "#### Question 2: How many records are present in the dataset? Print the metadata information of dataset."
   ]
  },
  {
   "cell_type": "code",
   "execution_count": 587,
   "metadata": {},
   "outputs": [
    {
     "name": "stdout",
     "output_type": "stream",
     "text": [
      "<class 'pandas.core.frame.DataFrame'>\n",
      "Int64Index: 150 entries, 0 to 149\n",
      "Data columns (total 15 columns):\n",
      " #   Column                 Non-Null Count  Dtype   \n",
      "---  ------                 --------------  -----   \n",
      " 0   Movie_ID               150 non-null    int64   \n",
      " 1   Release_Date           150 non-null    object  \n",
      " 2   Movie_Name             150 non-null    object  \n",
      " 3   Release_Time           150 non-null    category\n",
      " 4   Genre                  150 non-null    category\n",
      " 5   Budget(Cr)             150 non-null    float64 \n",
      " 6   Box_Office_Collection  150 non-null    float64 \n",
      " 7   Youtube_Views          150 non-null    int64   \n",
      " 8   Youtube_Likes          150 non-null    float64 \n",
      " 9   Youtube_Dislikes       147 non-null    float64 \n",
      " 10  Youtube_Like_Dislikes  150 non-null    int32   \n",
      " 11  Release_Month          150 non-null    object  \n",
      " 12  Release_Day            150 non-null    int32   \n",
      " 13  Release_Year           150 non-null    int64   \n",
      " 14  Return_On_Investment   150 non-null    float64 \n",
      "dtypes: category(2), float64(5), int32(2), int64(3), object(3)\n",
      "memory usage: 15.9+ KB\n"
     ]
    }
   ],
   "source": [
    "\n",
    "dataset.info()"
   ]
  },
  {
   "cell_type": "markdown",
   "metadata": {},
   "source": [
    "#### Drop Features"
   ]
  },
  {
   "cell_type": "code",
   "execution_count": 588,
   "metadata": {},
   "outputs": [],
   "source": [
    "# Few columns can be dropped from dataframe as those are not required for current problem statement.\n",
    "#dataset.drop(['Movie_ID','Youtube_Like_Dislikes','Release_Date','Youtube_Views','Youtube_Likes','Youtube_Dislikes','Release_Day'], axis = 1, inplace = True)"
   ]
  },
  {
   "cell_type": "markdown",
   "metadata": {},
   "source": [
    "#### Select Required Features to a dataframe"
   ]
  },
  {
   "cell_type": "code",
   "execution_count": 589,
   "metadata": {},
   "outputs": [
    {
     "data": {
      "text/html": [
       "<div>\n",
       "<style scoped>\n",
       "    .dataframe tbody tr th:only-of-type {\n",
       "        vertical-align: middle;\n",
       "    }\n",
       "\n",
       "    .dataframe tbody tr th {\n",
       "        vertical-align: top;\n",
       "    }\n",
       "\n",
       "    .dataframe thead th {\n",
       "        text-align: right;\n",
       "    }\n",
       "</style>\n",
       "<table border=\"1\" class=\"dataframe\">\n",
       "  <thead>\n",
       "    <tr style=\"text-align: right;\">\n",
       "      <th></th>\n",
       "      <th>Movie_Name</th>\n",
       "      <th>Release_Time</th>\n",
       "      <th>Genre</th>\n",
       "      <th>Budget(Cr)</th>\n",
       "      <th>Box_Office_Collection</th>\n",
       "      <th>Release_Month</th>\n",
       "      <th>Release_Year</th>\n",
       "      <th>Return_On_Investment</th>\n",
       "    </tr>\n",
       "    <tr>\n",
       "      <th>index</th>\n",
       "      <th></th>\n",
       "      <th></th>\n",
       "      <th></th>\n",
       "      <th></th>\n",
       "      <th></th>\n",
       "      <th></th>\n",
       "      <th></th>\n",
       "      <th></th>\n",
       "    </tr>\n",
       "  </thead>\n",
       "  <tbody>\n",
       "    <tr>\n",
       "      <th>0</th>\n",
       "      <td>2 States</td>\n",
       "      <td>3</td>\n",
       "      <td>Romance</td>\n",
       "      <td>36.0</td>\n",
       "      <td>104.00</td>\n",
       "      <td>Apr</td>\n",
       "      <td>2014</td>\n",
       "      <td>1.888889</td>\n",
       "    </tr>\n",
       "    <tr>\n",
       "      <th>1</th>\n",
       "      <td>Table No. 21</td>\n",
       "      <td>4</td>\n",
       "      <td>Thriller</td>\n",
       "      <td>10.0</td>\n",
       "      <td>12.00</td>\n",
       "      <td>Jan</td>\n",
       "      <td>2013</td>\n",
       "      <td>0.200000</td>\n",
       "    </tr>\n",
       "    <tr>\n",
       "      <th>2</th>\n",
       "      <td>Amit Sahni Ki List</td>\n",
       "      <td>4</td>\n",
       "      <td>Comedy</td>\n",
       "      <td>10.0</td>\n",
       "      <td>4.00</td>\n",
       "      <td>Jul</td>\n",
       "      <td>2014</td>\n",
       "      <td>-0.600000</td>\n",
       "    </tr>\n",
       "    <tr>\n",
       "      <th>3</th>\n",
       "      <td>Rajdhani Express</td>\n",
       "      <td>4</td>\n",
       "      <td>Drama</td>\n",
       "      <td>7.0</td>\n",
       "      <td>383.00</td>\n",
       "      <td>Jan</td>\n",
       "      <td>2013</td>\n",
       "      <td>53.714286</td>\n",
       "    </tr>\n",
       "    <tr>\n",
       "      <th>4</th>\n",
       "      <td>Bobby Jasoos</td>\n",
       "      <td>4</td>\n",
       "      <td>Comedy</td>\n",
       "      <td>18.0</td>\n",
       "      <td>10.80</td>\n",
       "      <td>Jul</td>\n",
       "      <td>2014</td>\n",
       "      <td>-0.400000</td>\n",
       "    </tr>\n",
       "    <tr>\n",
       "      <th>...</th>\n",
       "      <td>...</td>\n",
       "      <td>...</td>\n",
       "      <td>...</td>\n",
       "      <td>...</td>\n",
       "      <td>...</td>\n",
       "      <td>...</td>\n",
       "      <td>...</td>\n",
       "      <td>...</td>\n",
       "    </tr>\n",
       "    <tr>\n",
       "      <th>145</th>\n",
       "      <td>Dum Laga Ke Haisha</td>\n",
       "      <td>4</td>\n",
       "      <td>Comedy</td>\n",
       "      <td>15.0</td>\n",
       "      <td>30.00</td>\n",
       "      <td>Feb</td>\n",
       "      <td>2015</td>\n",
       "      <td>1.000000</td>\n",
       "    </tr>\n",
       "    <tr>\n",
       "      <th>146</th>\n",
       "      <td>NH10</td>\n",
       "      <td>4</td>\n",
       "      <td>Thriller</td>\n",
       "      <td>13.0</td>\n",
       "      <td>32.10</td>\n",
       "      <td>Mar</td>\n",
       "      <td>2015</td>\n",
       "      <td>1.469231</td>\n",
       "    </tr>\n",
       "    <tr>\n",
       "      <th>147</th>\n",
       "      <td>Dilliwali Zaalim Girlfriend</td>\n",
       "      <td>4</td>\n",
       "      <td>Comedy</td>\n",
       "      <td>32.0</td>\n",
       "      <td>12.00</td>\n",
       "      <td>Mar</td>\n",
       "      <td>2015</td>\n",
       "      <td>-0.625000</td>\n",
       "    </tr>\n",
       "    <tr>\n",
       "      <th>148</th>\n",
       "      <td>Hunterrr</td>\n",
       "      <td>4</td>\n",
       "      <td>Comedy</td>\n",
       "      <td>5.0</td>\n",
       "      <td>11.89</td>\n",
       "      <td>Mar</td>\n",
       "      <td>2015</td>\n",
       "      <td>1.378000</td>\n",
       "    </tr>\n",
       "    <tr>\n",
       "      <th>149</th>\n",
       "      <td>Kochadaiiyaan</td>\n",
       "      <td>2</td>\n",
       "      <td>Action</td>\n",
       "      <td>150.0</td>\n",
       "      <td>120.00</td>\n",
       "      <td>May</td>\n",
       "      <td>2014</td>\n",
       "      <td>-0.200000</td>\n",
       "    </tr>\n",
       "  </tbody>\n",
       "</table>\n",
       "<p>150 rows × 8 columns</p>\n",
       "</div>"
      ],
      "text/plain": [
       "                        Movie_Name Release_Time     Genre  Budget(Cr)  \\\n",
       "index                                                                   \n",
       "0                         2 States            3   Romance        36.0   \n",
       "1                     Table No. 21            4  Thriller        10.0   \n",
       "2               Amit Sahni Ki List            4    Comedy        10.0   \n",
       "3                 Rajdhani Express            4     Drama         7.0   \n",
       "4                     Bobby Jasoos            4    Comedy        18.0   \n",
       "...                            ...          ...       ...         ...   \n",
       "145             Dum Laga Ke Haisha            4    Comedy        15.0   \n",
       "146                           NH10            4  Thriller        13.0   \n",
       "147    Dilliwali Zaalim Girlfriend            4    Comedy        32.0   \n",
       "148                       Hunterrr            4    Comedy         5.0   \n",
       "149                  Kochadaiiyaan            2    Action       150.0   \n",
       "\n",
       "       Box_Office_Collection Release_Month  Release_Year  Return_On_Investment  \n",
       "index                                                                           \n",
       "0                     104.00           Apr          2014              1.888889  \n",
       "1                      12.00           Jan          2013              0.200000  \n",
       "2                       4.00           Jul          2014             -0.600000  \n",
       "3                     383.00           Jan          2013             53.714286  \n",
       "4                      10.80           Jul          2014             -0.400000  \n",
       "...                      ...           ...           ...                   ...  \n",
       "145                    30.00           Feb          2015              1.000000  \n",
       "146                    32.10           Mar          2015              1.469231  \n",
       "147                    12.00           Mar          2015             -0.625000  \n",
       "148                    11.89           Mar          2015              1.378000  \n",
       "149                   120.00           May          2014             -0.200000  \n",
       "\n",
       "[150 rows x 8 columns]"
      ]
     },
     "execution_count": 589,
     "metadata": {},
     "output_type": "execute_result"
    }
   ],
   "source": [
    "df = dataset[['Movie_Name','Release_Time','Genre','Budget(Cr)','Box_Office_Collection','Release_Month','Release_Year','Return_On_Investment']]\n",
    "df"
   ]
  },
  {
   "cell_type": "markdown",
   "metadata": {},
   "source": [
    "#### Question 2: How many records are present in the dataset? Print the metadata information of dataset."
   ]
  },
  {
   "cell_type": "code",
   "execution_count": 590,
   "metadata": {},
   "outputs": [
    {
     "data": {
      "text/html": [
       "<div>\n",
       "<style scoped>\n",
       "    .dataframe tbody tr th:only-of-type {\n",
       "        vertical-align: middle;\n",
       "    }\n",
       "\n",
       "    .dataframe tbody tr th {\n",
       "        vertical-align: top;\n",
       "    }\n",
       "\n",
       "    .dataframe thead th {\n",
       "        text-align: right;\n",
       "    }\n",
       "</style>\n",
       "<table border=\"1\" class=\"dataframe\">\n",
       "  <thead>\n",
       "    <tr style=\"text-align: right;\">\n",
       "      <th></th>\n",
       "      <th>Movie_Name</th>\n",
       "      <th>Release_Time</th>\n",
       "      <th>Genre</th>\n",
       "      <th>Budget(Cr)</th>\n",
       "      <th>Box_Office_Collection</th>\n",
       "      <th>Release_Month</th>\n",
       "      <th>Release_Year</th>\n",
       "      <th>Return_On_Investment</th>\n",
       "    </tr>\n",
       "  </thead>\n",
       "  <tbody>\n",
       "    <tr>\n",
       "      <th>count</th>\n",
       "      <td>150</td>\n",
       "      <td>150.0</td>\n",
       "      <td>150</td>\n",
       "      <td>150.000000</td>\n",
       "      <td>150.000000</td>\n",
       "      <td>150</td>\n",
       "      <td>150.000000</td>\n",
       "      <td>150.000000</td>\n",
       "    </tr>\n",
       "    <tr>\n",
       "      <th>unique</th>\n",
       "      <td>149</td>\n",
       "      <td>4.0</td>\n",
       "      <td>5</td>\n",
       "      <td>NaN</td>\n",
       "      <td>NaN</td>\n",
       "      <td>12</td>\n",
       "      <td>NaN</td>\n",
       "      <td>NaN</td>\n",
       "    </tr>\n",
       "    <tr>\n",
       "      <th>top</th>\n",
       "      <td>Lekar Hum Deewana Dil</td>\n",
       "      <td>4.0</td>\n",
       "      <td>Comedy</td>\n",
       "      <td>NaN</td>\n",
       "      <td>NaN</td>\n",
       "      <td>Jan</td>\n",
       "      <td>NaN</td>\n",
       "      <td>NaN</td>\n",
       "    </tr>\n",
       "    <tr>\n",
       "      <th>freq</th>\n",
       "      <td>2</td>\n",
       "      <td>100.0</td>\n",
       "      <td>36</td>\n",
       "      <td>NaN</td>\n",
       "      <td>NaN</td>\n",
       "      <td>20</td>\n",
       "      <td>NaN</td>\n",
       "      <td>NaN</td>\n",
       "    </tr>\n",
       "    <tr>\n",
       "      <th>mean</th>\n",
       "      <td>NaN</td>\n",
       "      <td>NaN</td>\n",
       "      <td>NaN</td>\n",
       "      <td>29.353333</td>\n",
       "      <td>57.863800</td>\n",
       "      <td>NaN</td>\n",
       "      <td>2013.633333</td>\n",
       "      <td>1.118094</td>\n",
       "    </tr>\n",
       "    <tr>\n",
       "      <th>std</th>\n",
       "      <td>NaN</td>\n",
       "      <td>NaN</td>\n",
       "      <td>NaN</td>\n",
       "      <td>28.164459</td>\n",
       "      <td>97.887547</td>\n",
       "      <td>NaN</td>\n",
       "      <td>0.628375</td>\n",
       "      <td>4.695888</td>\n",
       "    </tr>\n",
       "    <tr>\n",
       "      <th>min</th>\n",
       "      <td>NaN</td>\n",
       "      <td>NaN</td>\n",
       "      <td>NaN</td>\n",
       "      <td>2.000000</td>\n",
       "      <td>0.010000</td>\n",
       "      <td>NaN</td>\n",
       "      <td>2013.000000</td>\n",
       "      <td>-0.995000</td>\n",
       "    </tr>\n",
       "    <tr>\n",
       "      <th>25%</th>\n",
       "      <td>NaN</td>\n",
       "      <td>NaN</td>\n",
       "      <td>NaN</td>\n",
       "      <td>11.000000</td>\n",
       "      <td>9.085000</td>\n",
       "      <td>NaN</td>\n",
       "      <td>2013.000000</td>\n",
       "      <td>-0.468849</td>\n",
       "    </tr>\n",
       "    <tr>\n",
       "      <th>50%</th>\n",
       "      <td>NaN</td>\n",
       "      <td>NaN</td>\n",
       "      <td>NaN</td>\n",
       "      <td>21.000000</td>\n",
       "      <td>28.100000</td>\n",
       "      <td>NaN</td>\n",
       "      <td>2014.000000</td>\n",
       "      <td>0.205000</td>\n",
       "    </tr>\n",
       "    <tr>\n",
       "      <th>75%</th>\n",
       "      <td>NaN</td>\n",
       "      <td>NaN</td>\n",
       "      <td>NaN</td>\n",
       "      <td>35.000000</td>\n",
       "      <td>57.862500</td>\n",
       "      <td>NaN</td>\n",
       "      <td>2014.000000</td>\n",
       "      <td>1.387500</td>\n",
       "    </tr>\n",
       "    <tr>\n",
       "      <th>max</th>\n",
       "      <td>NaN</td>\n",
       "      <td>NaN</td>\n",
       "      <td>NaN</td>\n",
       "      <td>150.000000</td>\n",
       "      <td>735.000000</td>\n",
       "      <td>NaN</td>\n",
       "      <td>2015.000000</td>\n",
       "      <td>53.714286</td>\n",
       "    </tr>\n",
       "  </tbody>\n",
       "</table>\n",
       "</div>"
      ],
      "text/plain": [
       "                   Movie_Name  Release_Time   Genre  Budget(Cr)  \\\n",
       "count                     150         150.0     150  150.000000   \n",
       "unique                    149           4.0       5         NaN   \n",
       "top     Lekar Hum Deewana Dil           4.0  Comedy         NaN   \n",
       "freq                        2         100.0      36         NaN   \n",
       "mean                      NaN           NaN     NaN   29.353333   \n",
       "std                       NaN           NaN     NaN   28.164459   \n",
       "min                       NaN           NaN     NaN    2.000000   \n",
       "25%                       NaN           NaN     NaN   11.000000   \n",
       "50%                       NaN           NaN     NaN   21.000000   \n",
       "75%                       NaN           NaN     NaN   35.000000   \n",
       "max                       NaN           NaN     NaN  150.000000   \n",
       "\n",
       "        Box_Office_Collection Release_Month  Release_Year  \\\n",
       "count              150.000000           150    150.000000   \n",
       "unique                    NaN            12           NaN   \n",
       "top                       NaN           Jan           NaN   \n",
       "freq                      NaN            20           NaN   \n",
       "mean                57.863800           NaN   2013.633333   \n",
       "std                 97.887547           NaN      0.628375   \n",
       "min                  0.010000           NaN   2013.000000   \n",
       "25%                  9.085000           NaN   2013.000000   \n",
       "50%                 28.100000           NaN   2014.000000   \n",
       "75%                 57.862500           NaN   2014.000000   \n",
       "max                735.000000           NaN   2015.000000   \n",
       "\n",
       "        Return_On_Investment  \n",
       "count             150.000000  \n",
       "unique                   NaN  \n",
       "top                      NaN  \n",
       "freq                     NaN  \n",
       "mean                1.118094  \n",
       "std                 4.695888  \n",
       "min                -0.995000  \n",
       "25%                -0.468849  \n",
       "50%                 0.205000  \n",
       "75%                 1.387500  \n",
       "max                53.714286  "
      ]
     },
     "execution_count": 590,
     "metadata": {},
     "output_type": "execute_result"
    }
   ],
   "source": [
    "# Describe the data with all datatypes\n",
    "df.describe(include=\"all\")"
   ]
  },
  {
   "cell_type": "code",
   "execution_count": 591,
   "metadata": {},
   "outputs": [],
   "source": [
    "#reset the index\n",
    "df.reset_index(drop=True, inplace=True)"
   ]
  },
  {
   "cell_type": "code",
   "execution_count": 592,
   "metadata": {},
   "outputs": [
    {
     "name": "stdout",
     "output_type": "stream",
     "text": [
      "<class 'pandas.core.frame.DataFrame'>\n",
      "RangeIndex: 150 entries, 0 to 149\n",
      "Data columns (total 8 columns):\n",
      " #   Column                 Non-Null Count  Dtype   \n",
      "---  ------                 --------------  -----   \n",
      " 0   Movie_Name             150 non-null    object  \n",
      " 1   Release_Time           150 non-null    category\n",
      " 2   Genre                  150 non-null    category\n",
      " 3   Budget(Cr)             150 non-null    float64 \n",
      " 4   Box_Office_Collection  150 non-null    float64 \n",
      " 5   Release_Month          150 non-null    object  \n",
      " 6   Release_Year           150 non-null    int64   \n",
      " 7   Return_On_Investment   150 non-null    float64 \n",
      "dtypes: category(2), float64(3), int64(1), object(2)\n",
      "memory usage: 7.8+ KB\n"
     ]
    }
   ],
   "source": [
    "df.info()"
   ]
  },
  {
   "cell_type": "markdown",
   "metadata": {},
   "source": [
    "#### Question 3:How many movies in each genre got released in different release times? "
   ]
  },
  {
   "cell_type": "code",
   "execution_count": 593,
   "metadata": {},
   "outputs": [
    {
     "name": "stdout",
     "output_type": "stream",
     "text": [
      "Genre     Release_Time\n",
      "Action    1                3\n",
      "          2                3\n",
      "          3                3\n",
      "          4               15\n",
      "Comedy    1                3\n",
      "          2                5\n",
      "          3                5\n",
      "          4               23\n",
      "Drama     1                4\n",
      "          2                6\n",
      "          3                1\n",
      "          4               24\n",
      "Romance   1                3\n",
      "          2                3\n",
      "          3                4\n",
      "          4               16\n",
      "Thriller  1                4\n",
      "          2                1\n",
      "          3                2\n",
      "          4               22\n",
      "dtype: int64\n"
     ]
    }
   ],
   "source": [
    "genre_RT_df = df[[\"Movie_Name\",\"Genre\",\"Release_Time\"]]\n",
    "genre_RT_df = genre_RT_df.groupby([\"Genre\",\"Release_Time\"]).size()\n",
    "print(genre_RT_df)"
   ]
  },
  {
   "cell_type": "code",
   "execution_count": 594,
   "metadata": {},
   "outputs": [
    {
     "name": "stdout",
     "output_type": "stream",
     "text": [
      "No.of Movies Released: Genre     Release_Time\n",
      "Action    1                3\n",
      "          2                3\n",
      "          3                3\n",
      "          4               15\n",
      "Comedy    1                3\n",
      "          2                5\n",
      "          3                5\n",
      "          4               23\n",
      "Drama     1                4\n",
      "          2                6\n",
      "          3                1\n",
      "          4               24\n",
      "Romance   1                3\n",
      "          2                3\n",
      "          3                4\n",
      "          4               16\n",
      "Thriller  1                4\n",
      "          2                1\n",
      "          3                2\n",
      "          4               22\n",
      "dtype: int64\n"
     ]
    }
   ],
   "source": [
    "print('No.of Movies Released:' , df.groupby([\"Genre\",\"Release_Time\"]).size())"
   ]
  },
  {
   "cell_type": "markdown",
   "metadata": {},
   "source": [
    "#### Question 4:Which month of the year, maximum movie releases are seen?"
   ]
  },
  {
   "cell_type": "code",
   "execution_count": 595,
   "metadata": {},
   "outputs": [
    {
     "data": {
      "text/plain": [
       "0    Jan\n",
       "dtype: object"
      ]
     },
     "execution_count": 595,
     "metadata": {},
     "output_type": "execute_result"
    }
   ],
   "source": [
    "# Considering only Release Month\n",
    "df[\"Release_Month\"].mode()"
   ]
  },
  {
   "cell_type": "markdown",
   "metadata": {},
   "source": [
    "#### Maximum movies released in the month of Jan"
   ]
  },
  {
   "cell_type": "code",
   "execution_count": 596,
   "metadata": {},
   "outputs": [
    {
     "data": {
      "text/plain": [
       "Release_Month  Release_Year\n",
       "May            2014            12\n",
       "dtype: int64"
      ]
     },
     "execution_count": 596,
     "metadata": {},
     "output_type": "execute_result"
    }
   ],
   "source": [
    "# If we consider both Release month and year\n",
    "max_movies = df.groupby([\"Release_Month\",\"Release_Year\"],as_index=False).size().sort_values(ascending=False)\n",
    "max_movies.head(1)"
   ]
  },
  {
   "cell_type": "markdown",
   "metadata": {},
   "source": [
    "#### Maximum movies release in the month of May if we condsider Year."
   ]
  },
  {
   "cell_type": "markdown",
   "metadata": {},
   "source": [
    "#### Question 5: Which month of the year typically sees most releases of high budgeted movies, that is,  movies with budget of 25 crore or more?"
   ]
  },
  {
   "cell_type": "code",
   "execution_count": 597,
   "metadata": {},
   "outputs": [
    {
     "data": {
      "text/plain": [
       "Release_Month  Budget(Cr)\n",
       "Jul            30.0          3\n",
       "dtype: int64"
      ]
     },
     "execution_count": 597,
     "metadata": {},
     "output_type": "execute_result"
    }
   ],
   "source": [
    "# Considering only Release Month\n",
    "high_budget = df[df[\"Budget(Cr)\"] >=25]\n",
    "high_budget = high_budget[[\"Release_Month\",\"Budget(Cr)\"]]\n",
    "high_budget = high_budget.groupby([\"Release_Month\",\"Budget(Cr)\"],as_index=False).size().sort_values(ascending=False)\n",
    "high_budget.head(1)"
   ]
  },
  {
   "cell_type": "code",
   "execution_count": 598,
   "metadata": {},
   "outputs": [
    {
     "data": {
      "text/plain": [
       "Release_Month  Release_Year  Budget(Cr)\n",
       "Jul            2013          30.0          3\n",
       "dtype: int64"
      ]
     },
     "execution_count": 598,
     "metadata": {},
     "output_type": "execute_result"
    }
   ],
   "source": [
    "# If we consider both Release month and year\n",
    "high_budget = df[df[\"Budget(Cr)\"] >=25]\n",
    "high_budget = high_budget[[\"Release_Month\",\"Release_Year\",\"Budget(Cr)\"]]\n",
    "high_budget = high_budget.groupby([\"Release_Month\",\"Release_Year\",\"Budget(Cr)\"],as_index=False).size().sort_values(ascending=False)\n",
    "high_budget.head(1)"
   ]
  },
  {
   "cell_type": "markdown",
   "metadata": {},
   "source": [
    "#### High budget movies release in the month of Jul in 2013 whether we consider ear or not."
   ]
  },
  {
   "cell_type": "markdown",
   "metadata": {},
   "source": [
    "#### Question 6:Which are the top 10 movies with maximum return of investment (ROI)?"
   ]
  },
  {
   "cell_type": "code",
   "execution_count": 599,
   "metadata": {},
   "outputs": [
    {
     "data": {
      "text/html": [
       "<div>\n",
       "<style scoped>\n",
       "    .dataframe tbody tr th:only-of-type {\n",
       "        vertical-align: middle;\n",
       "    }\n",
       "\n",
       "    .dataframe tbody tr th {\n",
       "        vertical-align: top;\n",
       "    }\n",
       "\n",
       "    .dataframe thead th {\n",
       "        text-align: right;\n",
       "    }\n",
       "</style>\n",
       "<table border=\"1\" class=\"dataframe\">\n",
       "  <thead>\n",
       "    <tr style=\"text-align: right;\">\n",
       "      <th></th>\n",
       "      <th>Movie_Name</th>\n",
       "      <th>Budget(Cr)</th>\n",
       "      <th>Release_Month</th>\n",
       "      <th>Box_Office_Collection</th>\n",
       "      <th>Return_On_Investment</th>\n",
       "    </tr>\n",
       "  </thead>\n",
       "  <tbody>\n",
       "    <tr>\n",
       "      <th>0</th>\n",
       "      <td>Rajdhani Express</td>\n",
       "      <td>7.0</td>\n",
       "      <td>Jan</td>\n",
       "      <td>383.0</td>\n",
       "      <td>53.714286</td>\n",
       "    </tr>\n",
       "    <tr>\n",
       "      <th>1</th>\n",
       "      <td>Aashiqui 2</td>\n",
       "      <td>12.0</td>\n",
       "      <td>Apr</td>\n",
       "      <td>110.0</td>\n",
       "      <td>8.166667</td>\n",
       "    </tr>\n",
       "    <tr>\n",
       "      <th>2</th>\n",
       "      <td>PK</td>\n",
       "      <td>85.0</td>\n",
       "      <td>Dec</td>\n",
       "      <td>735.0</td>\n",
       "      <td>7.647059</td>\n",
       "    </tr>\n",
       "    <tr>\n",
       "      <th>3</th>\n",
       "      <td>Grand Masti</td>\n",
       "      <td>35.0</td>\n",
       "      <td>Sep</td>\n",
       "      <td>298.0</td>\n",
       "      <td>7.514286</td>\n",
       "    </tr>\n",
       "    <tr>\n",
       "      <th>4</th>\n",
       "      <td>The Lunchbox</td>\n",
       "      <td>10.0</td>\n",
       "      <td>Sep</td>\n",
       "      <td>85.0</td>\n",
       "      <td>7.500000</td>\n",
       "    </tr>\n",
       "    <tr>\n",
       "      <th>5</th>\n",
       "      <td>Fukrey</td>\n",
       "      <td>5.0</td>\n",
       "      <td>Jun</td>\n",
       "      <td>36.2</td>\n",
       "      <td>6.240000</td>\n",
       "    </tr>\n",
       "    <tr>\n",
       "      <th>6</th>\n",
       "      <td>Mary Kom</td>\n",
       "      <td>15.0</td>\n",
       "      <td>Sep</td>\n",
       "      <td>104.0</td>\n",
       "      <td>5.933333</td>\n",
       "    </tr>\n",
       "    <tr>\n",
       "      <th>7</th>\n",
       "      <td>Shahid</td>\n",
       "      <td>6.0</td>\n",
       "      <td>Oct</td>\n",
       "      <td>40.0</td>\n",
       "      <td>5.666667</td>\n",
       "    </tr>\n",
       "    <tr>\n",
       "      <th>8</th>\n",
       "      <td>Humpty Sharma Ki Dulhania</td>\n",
       "      <td>20.0</td>\n",
       "      <td>Jul</td>\n",
       "      <td>130.0</td>\n",
       "      <td>5.500000</td>\n",
       "    </tr>\n",
       "    <tr>\n",
       "      <th>9</th>\n",
       "      <td>Bhaag Milkha Bhaag</td>\n",
       "      <td>30.0</td>\n",
       "      <td>Jul</td>\n",
       "      <td>164.0</td>\n",
       "      <td>4.466667</td>\n",
       "    </tr>\n",
       "  </tbody>\n",
       "</table>\n",
       "</div>"
      ],
      "text/plain": [
       "                  Movie_Name  Budget(Cr) Release_Month  Box_Office_Collection  \\\n",
       "0           Rajdhani Express         7.0           Jan                  383.0   \n",
       "1                 Aashiqui 2        12.0           Apr                  110.0   \n",
       "2                         PK        85.0           Dec                  735.0   \n",
       "3                Grand Masti        35.0           Sep                  298.0   \n",
       "4               The Lunchbox        10.0           Sep                   85.0   \n",
       "5                     Fukrey         5.0           Jun                   36.2   \n",
       "6                   Mary Kom        15.0           Sep                  104.0   \n",
       "7                     Shahid         6.0           Oct                   40.0   \n",
       "8  Humpty Sharma Ki Dulhania        20.0           Jul                  130.0   \n",
       "9         Bhaag Milkha Bhaag        30.0           Jul                  164.0   \n",
       "\n",
       "   Return_On_Investment  \n",
       "0             53.714286  \n",
       "1              8.166667  \n",
       "2              7.647059  \n",
       "3              7.514286  \n",
       "4              7.500000  \n",
       "5              6.240000  \n",
       "6              5.933333  \n",
       "7              5.666667  \n",
       "8              5.500000  \n",
       "9              4.466667  "
      ]
     },
     "execution_count": 599,
     "metadata": {},
     "output_type": "execute_result"
    }
   ],
   "source": [
    "ROI = df.sort_values(by = \"Return_On_Investment\",ascending=False,ignore_index=True)\n",
    "ROI\n",
    "ROI[[\"Movie_Name\",\"Budget(Cr)\",\"Release_Month\",\"Box_Office_Collection\",\"Return_On_Investment\"]].head(10)"
   ]
  },
  {
   "cell_type": "markdown",
   "metadata": {},
   "source": [
    "#### This the list of movies with top 10 ROI.\n",
    "# ROI calculated with (Box office collection – Budget) / Budget"
   ]
  }
 ],
 "metadata": {
  "kernelspec": {
   "display_name": "Python 3",
   "language": "python",
   "name": "python3"
  },
  "language_info": {
   "codemirror_mode": {
    "name": "ipython",
    "version": 3
   },
   "file_extension": ".py",
   "mimetype": "text/x-python",
   "name": "python",
   "nbconvert_exporter": "python",
   "pygments_lexer": "ipython3",
   "version": "3.7.6"
  }
 },
 "nbformat": 4,
 "nbformat_minor": 4
}
